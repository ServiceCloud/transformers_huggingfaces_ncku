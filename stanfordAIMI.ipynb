{
 "cells": [
  {
   "cell_type": "code",
   "execution_count": 1,
   "metadata": {},
   "outputs": [
    {
     "data": {
      "application/vnd.jupyter.widget-view+json": {
       "model_id": "b0b6097e57f645aaac5f9152da7daea1",
       "version_major": 2,
       "version_minor": 0
      },
      "text/plain": [
       "config.json:   0%|          | 0.00/1.19k [00:00<?, ?B/s]"
      ]
     },
     "metadata": {},
     "output_type": "display_data"
    },
    {
     "name": "stderr",
     "output_type": "stream",
     "text": [
      "c:\\Users\\fu\\anaconda3\\envs\\tf\\lib\\site-packages\\huggingface_hub\\file_download.py:147: UserWarning: `huggingface_hub` cache-system uses symlinks by default to efficiently store duplicated files but your machine does not support them in C:\\Users\\fu\\.cache\\huggingface\\hub. Caching files will still work but in a degraded version that might require more space on your disk. This warning can be disabled by setting the `HF_HUB_DISABLE_SYMLINKS_WARNING` environment variable. For more details, see https://huggingface.co/docs/huggingface_hub/how-to-cache#limitations.\n",
      "To support symlinks on Windows, you either need to activate Developer Mode or to run Python as an administrator. In order to see activate developer mode, see this article: https://docs.microsoft.com/en-us/windows/apps/get-started/enable-your-device-for-development\n",
      "  warnings.warn(message)\n"
     ]
    },
    {
     "data": {
      "application/vnd.jupyter.widget-view+json": {
       "model_id": "e2d15ce723594fa1b3d902704692f0fc",
       "version_major": 2,
       "version_minor": 0
      },
      "text/plain": [
       "pytorch_model.bin:   0%|          | 0.00/438M [00:00<?, ?B/s]"
      ]
     },
     "metadata": {},
     "output_type": "display_data"
    },
    {
     "data": {
      "application/vnd.jupyter.widget-view+json": {
       "model_id": "bbe3d8f202b145a1b3094f8503647829",
       "version_major": 2,
       "version_minor": 0
      },
      "text/plain": [
       "tokenizer_config.json:   0%|          | 0.00/29.0 [00:00<?, ?B/s]"
      ]
     },
     "metadata": {},
     "output_type": "display_data"
    },
    {
     "data": {
      "application/vnd.jupyter.widget-view+json": {
       "model_id": "bbb19cfdb96e452194dc41b63ee79e14",
       "version_major": 2,
       "version_minor": 0
      },
      "text/plain": [
       "vocab.txt:   0%|          | 0.00/226k [00:00<?, ?B/s]"
      ]
     },
     "metadata": {},
     "output_type": "display_data"
    },
    {
     "data": {
      "application/vnd.jupyter.widget-view+json": {
       "model_id": "3cedfc38f9c14646a0550c830c4fb66b",
       "version_major": 2,
       "version_minor": 0
      },
      "text/plain": [
       "special_tokens_map.json:   0%|          | 0.00/112 [00:00<?, ?B/s]"
      ]
     },
     "metadata": {},
     "output_type": "display_data"
    }
   ],
   "source": [
    "# Use a pipeline as a high-level helper\n",
    "from transformers import pipeline\n",
    "\n",
    "pipe = pipeline(\"token-classification\", model=\"StanfordAIMI/stanford-deidentifier-base\")"
   ]
  },
  {
   "cell_type": "code",
   "execution_count": 2,
   "metadata": {},
   "outputs": [
    {
     "data": {
      "text/plain": [
       "[{'entity': 'DATE',\n",
       "  'score': 0.99990094,\n",
       "  'index': 12,\n",
       "  'word': '1',\n",
       "  'start': 48,\n",
       "  'end': 49},\n",
       " {'entity': 'DATE',\n",
       "  'score': 0.9999145,\n",
       "  'index': 13,\n",
       "  'word': '/',\n",
       "  'start': 49,\n",
       "  'end': 50},\n",
       " {'entity': 'DATE',\n",
       "  'score': 0.99995744,\n",
       "  'index': 14,\n",
       "  'word': '1',\n",
       "  'start': 50,\n",
       "  'end': 51},\n",
       " {'entity': 'DATE',\n",
       "  'score': 0.99990964,\n",
       "  'index': 15,\n",
       "  'word': '/',\n",
       "  'start': 51,\n",
       "  'end': 52},\n",
       " {'entity': 'DATE',\n",
       "  'score': 0.9999218,\n",
       "  'index': 16,\n",
       "  'word': '2020',\n",
       "  'start': 52,\n",
       "  'end': 56},\n",
       " {'entity': 'DATE',\n",
       "  'score': 0.9996252,\n",
       "  'index': 23,\n",
       "  'word': 'march',\n",
       "  'start': 82,\n",
       "  'end': 87},\n",
       " {'entity': 'DATE',\n",
       "  'score': 0.9996954,\n",
       "  'index': 24,\n",
       "  'word': '1st',\n",
       "  'start': 88,\n",
       "  'end': 91},\n",
       " {'entity': 'DATE',\n",
       "  'score': 0.9992847,\n",
       "  'index': 25,\n",
       "  'word': ',',\n",
       "  'start': 91,\n",
       "  'end': 92},\n",
       " {'entity': 'DATE',\n",
       "  'score': 0.9987858,\n",
       "  'index': 26,\n",
       "  'word': '2019',\n",
       "  'start': 93,\n",
       "  'end': 97},\n",
       " {'entity': 'DATE',\n",
       "  'score': 0.9999242,\n",
       "  'index': 46,\n",
       "  'word': 'january',\n",
       "  'start': 181,\n",
       "  'end': 188},\n",
       " {'entity': 'DATE',\n",
       "  'score': 0.99989295,\n",
       "  'index': 47,\n",
       "  'word': '1',\n",
       "  'start': 189,\n",
       "  'end': 190},\n",
       " {'entity': 'DATE',\n",
       "  'score': 0.9997391,\n",
       "  'index': 48,\n",
       "  'word': '2020',\n",
       "  'start': 191,\n",
       "  'end': 195},\n",
       " {'entity': 'HOSPITAL',\n",
       "  'score': 0.99973494,\n",
       "  'index': 63,\n",
       "  'word': 'uh',\n",
       "  'start': 276,\n",
       "  'end': 278},\n",
       " {'entity': 'HOSPITAL',\n",
       "  'score': 0.9898493,\n",
       "  'index': 64,\n",
       "  'word': 'medical',\n",
       "  'start': 279,\n",
       "  'end': 286},\n",
       " {'entity': 'HOSPITAL',\n",
       "  'score': 0.9867856,\n",
       "  'index': 65,\n",
       "  'word': 'center',\n",
       "  'start': 287,\n",
       "  'end': 293},\n",
       " {'entity': 'HCW',\n",
       "  'score': 0.9995578,\n",
       "  'index': 71,\n",
       "  'word': 'dr',\n",
       "  'start': 322,\n",
       "  'end': 324},\n",
       " {'entity': 'HCW',\n",
       "  'score': 0.99956065,\n",
       "  'index': 72,\n",
       "  'word': '.',\n",
       "  'start': 324,\n",
       "  'end': 325},\n",
       " {'entity': 'HCW',\n",
       "  'score': 0.9999523,\n",
       "  'index': 73,\n",
       "  'word': 'perez',\n",
       "  'start': 326,\n",
       "  'end': 331},\n",
       " {'entity': 'VENDOR',\n",
       "  'score': 0.99338406,\n",
       "  'index': 79,\n",
       "  'word': 'med',\n",
       "  'start': 352,\n",
       "  'end': 355},\n",
       " {'entity': 'VENDOR',\n",
       "  'score': 0.9943395,\n",
       "  'index': 80,\n",
       "  'word': '##cl',\n",
       "  'start': 355,\n",
       "  'end': 357},\n",
       " {'entity': 'VENDOR',\n",
       "  'score': 0.98993254,\n",
       "  'index': 81,\n",
       "  'word': '##inical',\n",
       "  'start': 357,\n",
       "  'end': 363},\n",
       " {'entity': 'DATE',\n",
       "  'score': 0.9998074,\n",
       "  'index': 89,\n",
       "  'word': '2',\n",
       "  'start': 402,\n",
       "  'end': 403},\n",
       " {'entity': 'DATE',\n",
       "  'score': 0.99992716,\n",
       "  'index': 90,\n",
       "  'word': '/',\n",
       "  'start': 403,\n",
       "  'end': 404},\n",
       " {'entity': 'DATE',\n",
       "  'score': 0.99994314,\n",
       "  'index': 91,\n",
       "  'word': '1',\n",
       "  'start': 404,\n",
       "  'end': 405},\n",
       " {'entity': 'DATE',\n",
       "  'score': 0.9999088,\n",
       "  'index': 92,\n",
       "  'word': '/',\n",
       "  'start': 405,\n",
       "  'end': 406},\n",
       " {'entity': 'DATE',\n",
       "  'score': 0.99992144,\n",
       "  'index': 93,\n",
       "  'word': '2020',\n",
       "  'start': 406,\n",
       "  'end': 410},\n",
       " {'entity': 'ID',\n",
       "  'score': 0.9998894,\n",
       "  'index': 98,\n",
       "  'word': '58',\n",
       "  'start': 425,\n",
       "  'end': 427},\n",
       " {'entity': 'ID',\n",
       "  'score': 0.99979585,\n",
       "  'index': 99,\n",
       "  'word': '##74',\n",
       "  'start': 427,\n",
       "  'end': 429},\n",
       " {'entity': 'ID',\n",
       "  'score': 0.9998343,\n",
       "  'index': 100,\n",
       "  'word': '##233',\n",
       "  'start': 429,\n",
       "  'end': 432},\n",
       " {'entity': 'HCW',\n",
       "  'score': 0.9977843,\n",
       "  'index': 107,\n",
       "  'word': 'dr',\n",
       "  'start': 466,\n",
       "  'end': 468},\n",
       " {'entity': 'HCW',\n",
       "  'score': 0.99989295,\n",
       "  'index': 108,\n",
       "  'word': 'perez',\n",
       "  'start': 469,\n",
       "  'end': 474},\n",
       " {'entity': 'PHONE',\n",
       "  'score': 0.9988036,\n",
       "  'index': 115,\n",
       "  'word': '56',\n",
       "  'start': 495,\n",
       "  'end': 497},\n",
       " {'entity': 'PHONE',\n",
       "  'score': 0.99925596,\n",
       "  'index': 116,\n",
       "  'word': '##7',\n",
       "  'start': 497,\n",
       "  'end': 498},\n",
       " {'entity': 'PHONE',\n",
       "  'score': 0.99907637,\n",
       "  'index': 117,\n",
       "  'word': '-',\n",
       "  'start': 498,\n",
       "  'end': 499},\n",
       " {'entity': 'PHONE',\n",
       "  'score': 0.9993405,\n",
       "  'index': 118,\n",
       "  'word': '493',\n",
       "  'start': 499,\n",
       "  'end': 502},\n",
       " {'entity': 'PHONE',\n",
       "  'score': 0.9988464,\n",
       "  'index': 119,\n",
       "  'word': '-',\n",
       "  'start': 502,\n",
       "  'end': 503},\n",
       " {'entity': 'PHONE',\n",
       "  'score': 0.99932253,\n",
       "  'index': 120,\n",
       "  'word': '123',\n",
       "  'start': 503,\n",
       "  'end': 506},\n",
       " {'entity': 'PHONE',\n",
       "  'score': 0.9993236,\n",
       "  'index': 121,\n",
       "  'word': '##4',\n",
       "  'start': 506,\n",
       "  'end': 507}]"
      ]
     },
     "execution_count": 2,
     "metadata": {},
     "output_type": "execute_result"
    }
   ],
   "source": [
    "pipe(\"PROCEDURE: Chest xray. COMPARISON: last seen on 1/1/2020 and also record dated of March 1st, 2019. FINDINGS: patchy airspace opacities. IMPRESSION: The results of the chest xray of January 1 2020 are the most concerning ones. The patient was transmitted to another service of UH Medical Center under the responsability of Dr. Perez. We used the system MedClinical data transmitter and sent the data on 2/1/2020, under the ID 5874233. We received the confirmation of Dr Perez. He is reachable at 567-493-1234.\")"
   ]
  }
 ],
 "metadata": {
  "kernelspec": {
   "display_name": "tf",
   "language": "python",
   "name": "python3"
  },
  "language_info": {
   "codemirror_mode": {
    "name": "ipython",
    "version": 3
   },
   "file_extension": ".py",
   "mimetype": "text/x-python",
   "name": "python",
   "nbconvert_exporter": "python",
   "pygments_lexer": "ipython3",
   "version": "3.9.18"
  }
 },
 "nbformat": 4,
 "nbformat_minor": 2
}
